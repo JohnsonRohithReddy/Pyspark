{
  "nbformat": 4,
  "nbformat_minor": 0,
  "metadata": {
    "colab": {
      "provenance": []
    },
    "kernelspec": {
      "name": "python3",
      "display_name": "Python 3"
    },
    "language_info": {
      "name": "python"
    }
  },
  "cells": [
    {
      "cell_type": "code",
      "execution_count": 9,
      "metadata": {
        "colab": {
          "base_uri": "https://localhost:8080/"
        },
        "id": "xs_NLf5S82Nm",
        "outputId": "7aae2cfb-58bf-4fc8-cbf4-ab0801212343"
      },
      "outputs": [
        {
          "output_type": "stream",
          "name": "stdout",
          "text": [
            "+------------+---------------+-------------+---+------------+-----------+----------+----------------+-----------+-------------------------+----------------------+----------------------+--------------------+----------------------+-------------+\n",
            "|Company Name|     Model Name|Mobile Weight|RAM|Front Camera|Back Camera| Processor|Battery Capacity|Screen Size|Launched Price (Pakistan)|Launched Price (India)|Launched Price (China)|Launched Price (USA)|Launched Price (Dubai)|Launched Year|\n",
            "+------------+---------------+-------------+---+------------+-----------+----------+----------------+-----------+-------------------------+----------------------+----------------------+--------------------+----------------------+-------------+\n",
            "|       Apple|iPhone 16 128GB|         174g|6GB|        12MP|       48MP|A17 Bionic|        3,600mAh| 6.1 inches|              PKR 224,999|            INR 79,999|             CNY 5,799|             USD 799|             AED 2,799|         2024|\n",
            "|       Apple|iPhone 16 256GB|         174g|6GB|        12MP|       48MP|A17 Bionic|        3,600mAh| 6.1 inches|              PKR 234,999|            INR 84,999|             CNY 6,099|             USD 849|             AED 2,999|         2024|\n",
            "|       Apple|iPhone 16 512GB|         174g|6GB|        12MP|       48MP|A17 Bionic|        3,600mAh| 6.1 inches|              PKR 244,999|            INR 89,999|             CNY 6,499|             USD 899|             AED 3,199|         2024|\n",
            "+------------+---------------+-------------+---+------------+-----------+----------+----------------+-----------+-------------------------+----------------------+----------------------+--------------------+----------------------+-------------+\n",
            "only showing top 3 rows\n",
            "\n",
            "+------------+---------------+-------------+---+------------+-----------+----------+----------------+-----------+-----------------+--------------+--------------+------------+----------------------+-------------+\n",
            "|Company_name|          Model|Mobile Weight|RAM|Front Camera|Back Camera| Processor|Battery Capacity|Screen Size|Price in Pakistan|Price in India|Price in China|Price in USA|Launched Price (Dubai)|Year Launched|\n",
            "+------------+---------------+-------------+---+------------+-----------+----------+----------------+-----------+-----------------+--------------+--------------+------------+----------------------+-------------+\n",
            "|       Apple|iPhone 16 128GB|         174g|6GB|        12MP|       48MP|A17 Bionic|        3,600mAh| 6.1 inches|      PKR 224,999|    INR 79,999|     CNY 5,799|     USD 799|             AED 2,799|         2024|\n",
            "|       Apple|iPhone 16 256GB|         174g|6GB|        12MP|       48MP|A17 Bionic|        3,600mAh| 6.1 inches|      PKR 234,999|    INR 84,999|     CNY 6,099|     USD 849|             AED 2,999|         2024|\n",
            "|       Apple|iPhone 16 512GB|         174g|6GB|        12MP|       48MP|A17 Bionic|        3,600mAh| 6.1 inches|      PKR 244,999|    INR 89,999|     CNY 6,499|     USD 899|             AED 3,199|         2024|\n",
            "+------------+---------------+-------------+---+------------+-----------+----------+----------------+-----------+-----------------+--------------+--------------+------------+----------------------+-------------+\n",
            "only showing top 3 rows\n",
            "\n"
          ]
        }
      ],
      "source": [
        "from pyspark.sql import SparkSession\n",
        "from pyspark.sql.types import StructType, StructField, StringType, IntegerType, FloatType\n",
        "\n",
        "spark=SparkSession.builder.appName('Dataframe').getOrCreate()\n",
        "\n",
        "file_path='/content/Mobiles Dataset (2025).csv'\n",
        "\n",
        "df=spark.read.csv(file_path,header=True,inferSchema=True)\n",
        "\n",
        "replace_name={\n",
        "    \"Company Name\":\"Company_name\",\n",
        "    \"Model Name\":\"Model\",\n",
        "    \"Launched Price (Pakistan)\": \"Price in Pakistan\",\n",
        "    \"Launched Price (India)\" : \"Price in India\",\n",
        "    \"Launched Price (China)\" : \"Price in China\",\n",
        "    \"Launched Price (USA)\" : \"Price in USA\",\n",
        "    \"Launched Year\" : \"Year Launched\"\n",
        "}\n",
        "\n",
        "\n",
        "df.show(3)\n",
        "\n",
        "for exsisting_name , new_name in replace_name.items():\n",
        "  df=df.withColumnRenamed(exsisting_name,new_name)\n",
        "\n",
        "df.show(3)"
      ]
    },
    {
      "cell_type": "markdown",
      "source": [],
      "metadata": {
        "id": "ri-3LdSWFWqn"
      }
    }
  ]
}