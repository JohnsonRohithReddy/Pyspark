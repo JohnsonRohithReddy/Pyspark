{
  "nbformat": 4,
  "nbformat_minor": 0,
  "metadata": {
    "colab": {
      "provenance": []
    },
    "kernelspec": {
      "name": "python3",
      "display_name": "Python 3"
    },
    "language_info": {
      "name": "python"
    }
  },
  "cells": [
    {
      "cell_type": "code",
      "source": [
        "from pyspark.sql import SparkSession\n",
        "from pyspark.sql.types import StructType, StructField, IntegerType, StringType,FloatType\n",
        "\n",
        "#creating a spark session\n",
        "spark = SparkSession.builder.appName(\"DataFrameExample\").getOrCreate()\n",
        "\n",
        "#creating list of tuples\n",
        "tuples_list = [\n",
        "    (1, \"AAA\", 95.0),\n",
        "    (2, \"BBB\", 98.5),\n",
        "    (3, \"CCC\", 88.6)\n",
        "]\n",
        "\n",
        "#defining the explicit schema using structfield and structtype\n",
        "schema = StructType([\n",
        "    StructField(\"ID\", IntegerType(), True),\n",
        "    StructField(\"Name\", StringType(), True),\n",
        "    StructField(\"Marks\", FloatType(), True)\n",
        "])\n",
        "\n",
        "ddl_schema = \"\"\"\n",
        "ID INT,\n",
        "Name STRING,\n",
        "Marks float\n",
        "\"\"\"\n",
        "#createing a dataframe for the list of tuples\n",
        "df = spark.createDataFrame(tuples_list, schema=ddl_schema)\n",
        "\n",
        "#printing the schema\n",
        "df.printSchema()\n",
        "\n",
        "#print ing the dataframe\n",
        "df.show()"
      ],
      "metadata": {
        "id": "R-54prBiZdVa",
        "colab": {
          "base_uri": "https://localhost:8080/"
        },
        "outputId": "8c94128f-a183-4b76-ce53-82ade93ed6d3"
      },
      "execution_count": 8,
      "outputs": [
        {
          "output_type": "stream",
          "name": "stdout",
          "text": [
            "root\n",
            " |-- ID: integer (nullable = true)\n",
            " |-- Name: string (nullable = true)\n",
            " |-- Marks: float (nullable = true)\n",
            "\n",
            "+---+----+-----+\n",
            "| ID|Name|Marks|\n",
            "+---+----+-----+\n",
            "|  1| AAA| 95.0|\n",
            "|  2| BBB| 98.5|\n",
            "|  3| CCC| 88.6|\n",
            "+---+----+-----+\n",
            "\n"
          ]
        }
      ]
    },
    {
      "cell_type": "code",
      "source": [
        "df = spark.createDataFrame(tuples_list, schema=schema)\n",
        "df.printSchema()\n",
        "df.show()\n"
      ],
      "metadata": {
        "colab": {
          "base_uri": "https://localhost:8080/"
        },
        "id": "OJuJi1L4Noxt",
        "outputId": "ebc435e5-29c3-497e-ab92-a9d3bb35f935"
      },
      "execution_count": 9,
      "outputs": [
        {
          "output_type": "stream",
          "name": "stdout",
          "text": [
            "root\n",
            " |-- ID: integer (nullable = true)\n",
            " |-- Name: string (nullable = true)\n",
            " |-- Marks: float (nullable = true)\n",
            "\n",
            "+---+----+-----+\n",
            "| ID|Name|Marks|\n",
            "+---+----+-----+\n",
            "|  1| AAA| 95.0|\n",
            "|  2| BBB| 98.5|\n",
            "|  3| CCC| 88.6|\n",
            "+---+----+-----+\n",
            "\n"
          ]
        }
      ]
    },
    {
      "cell_type": "code",
      "source": [
        "df = spark.createDataFrame(tuples_list)\n",
        "df.printSchema()\n",
        "df.show()"
      ],
      "metadata": {
        "colab": {
          "base_uri": "https://localhost:8080/"
        },
        "id": "bxjeEKAxNtPb",
        "outputId": "513a8fbc-6e56-463f-8caf-21a323145bc3"
      },
      "execution_count": 11,
      "outputs": [
        {
          "output_type": "stream",
          "name": "stdout",
          "text": [
            "root\n",
            " |-- _1: long (nullable = true)\n",
            " |-- _2: string (nullable = true)\n",
            " |-- _3: double (nullable = true)\n",
            "\n",
            "+---+---+----+\n",
            "| _1| _2|  _3|\n",
            "+---+---+----+\n",
            "|  1|AAA|95.0|\n",
            "|  2|BBB|98.5|\n",
            "|  3|CCC|88.6|\n",
            "+---+---+----+\n",
            "\n"
          ]
        }
      ]
    },
    {
      "cell_type": "markdown",
      "source": [
        "Key Learning :-\n",
        "\n",
        "Purpose of SparkSession :- It acts like an entry point to start spark functionality like dataframes etc\n",
        "\n",
        "key concepts of that spark session are :\n",
        "1. Builder ->Starts building the SparkSession.\n",
        "2. appName(\"example\")->Assigns a name to your Spark job\n",
        "3. getOrCreate():-\n",
        "  Reuse: Returns an existing SparkSession if one exists.\n",
        "\n",
        "  Create: Builds a new one if none exists.\n",
        "\n",
        "PySpark has two primary distributed data structures for processing data:\n",
        "\n",
        "1. RDD (Resilient Distributed Dataset)\n",
        "2. DataFrame\n",
        "\n",
        "RDD->\n",
        "Schema ->No schema (unstructured) ,\n",
        "\n",
        "Optimizations -> None ,\n",
        "\n",
        "Performance\t-> Slower (JVM serialization),\n",
        "\n",
        "Use Case\t-> Custom algorithms, raw data\n",
        "\n",
        "DataFrame:\n",
        "\n",
        "Schema ->Explicit schema (structured) ,\n",
        "\n",
        "Optimizations -> Catalyst + Tungsten optimizations ,\n",
        "\n",
        "Performance\t-> Faster (columnar storage),\n",
        "\n",
        "Use Case\t-> SQL analytics, structured pipelines\n",
        "\n",
        "\n",
        "Schema:\n",
        "There are 3 mostly used schemas they are\n",
        "1. Explicit Schema (StructType) : Defined manually using StructType and StructField.\n",
        "2. Inferred Schema : Spark automatically guesses the schema from data.\n",
        "3. DDL Schema (SQL-like String) : Define schema using a SQL DDL-formatted string.\n",
        "\n",
        "\n",
        " Data Display Methods:\n",
        "\n",
        "1. show() -> Shows 20 rows, truncates long text\n",
        "2. show(n) -> Shows first n rows\n",
        "3. show(truncate=False) -> Displays full cell content\n",
        "4. show(vertical=True) -> Displays rows vertically\n",
        "5. printSchema() -> Shows column names and types\n",
        "6. head() -> Returns list of Row objects\n",
        "7. take() -> \tReturns list of Row objects\n",
        "8. collect() -> Returns all data as list"
      ],
      "metadata": {
        "id": "GSxEEpK_mBsZ"
      }
    },
    {
      "cell_type": "code",
      "source": [
        "df.limit(2).show()"
      ],
      "metadata": {
        "colab": {
          "base_uri": "https://localhost:8080/"
        },
        "id": "VqlOiC1NOYGc",
        "outputId": "a13cf709-dcf2-4745-dc0f-1610bc636d73"
      },
      "execution_count": 13,
      "outputs": [
        {
          "output_type": "stream",
          "name": "stdout",
          "text": [
            "+---+---+----+\n",
            "| _1| _2|  _3|\n",
            "+---+---+----+\n",
            "|  1|AAA|95.0|\n",
            "|  2|BBB|98.5|\n",
            "+---+---+----+\n",
            "\n"
          ]
        }
      ]
    },
    {
      "cell_type": "code",
      "source": [
        "df.show()"
      ],
      "metadata": {
        "colab": {
          "base_uri": "https://localhost:8080/"
        },
        "id": "kt_UHGUUO_Wo",
        "outputId": "44073190-f72f-4578-836d-bf4546ed7343"
      },
      "execution_count": 14,
      "outputs": [
        {
          "output_type": "stream",
          "name": "stdout",
          "text": [
            "+---+---+----+\n",
            "| _1| _2|  _3|\n",
            "+---+---+----+\n",
            "|  1|AAA|95.0|\n",
            "|  2|BBB|98.5|\n",
            "|  3|CCC|88.6|\n",
            "+---+---+----+\n",
            "\n"
          ]
        }
      ]
    },
    {
      "cell_type": "code",
      "source": [
        "df.show(1)"
      ],
      "metadata": {
        "colab": {
          "base_uri": "https://localhost:8080/"
        },
        "id": "ub8H4ABvPByR",
        "outputId": "b386925e-5552-485b-ab88-b50705456211"
      },
      "execution_count": 15,
      "outputs": [
        {
          "output_type": "stream",
          "name": "stdout",
          "text": [
            "+---+---+----+\n",
            "| _1| _2|  _3|\n",
            "+---+---+----+\n",
            "|  1|AAA|95.0|\n",
            "+---+---+----+\n",
            "only showing top 1 row\n",
            "\n"
          ]
        }
      ]
    },
    {
      "cell_type": "code",
      "source": [
        "df.show(vertical=True)"
      ],
      "metadata": {
        "colab": {
          "base_uri": "https://localhost:8080/"
        },
        "id": "IF9fteZaPEIi",
        "outputId": "92ad4eb0-ad0b-401f-a90a-dcf6fb3ac7eb"
      },
      "execution_count": 16,
      "outputs": [
        {
          "output_type": "stream",
          "name": "stdout",
          "text": [
            "-RECORD 0---\n",
            " _1  | 1    \n",
            " _2  | AAA  \n",
            " _3  | 95.0 \n",
            "-RECORD 1---\n",
            " _1  | 2    \n",
            " _2  | BBB  \n",
            " _3  | 98.5 \n",
            "-RECORD 2---\n",
            " _1  | 3    \n",
            " _2  | CCC  \n",
            " _3  | 88.6 \n",
            "\n"
          ]
        }
      ]
    },
    {
      "cell_type": "code",
      "source": [
        "df.show(truncate=False)"
      ],
      "metadata": {
        "colab": {
          "base_uri": "https://localhost:8080/"
        },
        "id": "899DS0pOPH8I",
        "outputId": "ea685ea6-bb59-4623-b74e-03520c6aae5c"
      },
      "execution_count": 17,
      "outputs": [
        {
          "output_type": "stream",
          "name": "stdout",
          "text": [
            "+---+---+----+\n",
            "|_1 |_2 |_3  |\n",
            "+---+---+----+\n",
            "|1  |AAA|95.0|\n",
            "|2  |BBB|98.5|\n",
            "|3  |CCC|88.6|\n",
            "+---+---+----+\n",
            "\n"
          ]
        }
      ]
    },
    {
      "cell_type": "code",
      "source": [
        "df.take(2)"
      ],
      "metadata": {
        "colab": {
          "base_uri": "https://localhost:8080/"
        },
        "id": "b9mC3LmgPSd3",
        "outputId": "2c1d4526-92e2-4522-a48c-86e11d318b17"
      },
      "execution_count": 22,
      "outputs": [
        {
          "output_type": "execute_result",
          "data": {
            "text/plain": [
              "[Row(_1=1, _2='AAA', _3=95.0), Row(_1=2, _2='BBB', _3=98.5)]"
            ]
          },
          "metadata": {},
          "execution_count": 22
        }
      ]
    },
    {
      "cell_type": "code",
      "source": [
        "df.collect()"
      ],
      "metadata": {
        "colab": {
          "base_uri": "https://localhost:8080/"
        },
        "id": "pBpO5MHlPc1V",
        "outputId": "a8c29600-d546-4459-b5a2-057fc24ab46b"
      },
      "execution_count": 23,
      "outputs": [
        {
          "output_type": "execute_result",
          "data": {
            "text/plain": [
              "[Row(_1=1, _2='AAA', _3=95.0),\n",
              " Row(_1=2, _2='BBB', _3=98.5),\n",
              " Row(_1=3, _2='CCC', _3=88.6)]"
            ]
          },
          "metadata": {},
          "execution_count": 23
        }
      ]
    },
    {
      "cell_type": "code",
      "source": [
        "#tuple of lists\n",
        "\n",
        "list_tuple=([1,'AAA',33.0],[2,'BBB',58.0],[3,'None',90.0],[4,'DDD',None])\n",
        "\n",
        "schema=StructType([\n",
        "    StructField(\"ID\",IntegerType(),True),\n",
        "    StructField(\"Name\",StringType(),False),\n",
        "    StructField(\"Marks\",FloatType(),True)\n",
        "])\n",
        "\n",
        "tuple_of_list_df=spark.createDataFrame(list_tuple,schema=schema)\n",
        "tuple_of_list_df.show()"
      ],
      "metadata": {
        "colab": {
          "base_uri": "https://localhost:8080/"
        },
        "id": "izSbsAuhPewZ",
        "outputId": "9de190f7-8e4e-4f8c-bc8c-6e81048a4cb3"
      },
      "execution_count": 34,
      "outputs": [
        {
          "output_type": "stream",
          "name": "stdout",
          "text": [
            "+---+----+-----+\n",
            "| ID|Name|Marks|\n",
            "+---+----+-----+\n",
            "|  1| AAA| 33.0|\n",
            "|  2| BBB| 58.0|\n",
            "|  3|None| 90.0|\n",
            "|  4| DDD| NULL|\n",
            "+---+----+-----+\n",
            "\n"
          ]
        }
      ]
    },
    {
      "cell_type": "code",
      "source": [],
      "metadata": {
        "id": "XI5eHVTbPkP3"
      },
      "execution_count": 24,
      "outputs": []
    }
  ]
}