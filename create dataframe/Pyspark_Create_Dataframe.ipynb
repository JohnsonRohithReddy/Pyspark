{
  "nbformat": 4,
  "nbformat_minor": 0,
  "metadata": {
    "colab": {
      "provenance": []
    },
    "kernelspec": {
      "name": "python3",
      "display_name": "Python 3"
    },
    "language_info": {
      "name": "python"
    }
  },
  "cells": [
    {
      "cell_type": "code",
      "source": [
        "from pyspark.sql import SparkSession\n",
        "from pyspark.sql.types import StructType, StructField, IntegerType, StringType\n",
        "\n",
        "#creating a spark session\n",
        "spark = SparkSession.builder.appName(\"DataFrameExample\").getOrCreate()\n",
        "\n",
        "#creating list of tuples\n",
        "tuples_list = [\n",
        "    (1, \"Alice\", 29),\n",
        "    (2, \"Bob\", 35),\n",
        "    (3, \"Charlie\", 40)\n",
        "]\n",
        "\n",
        "#defining the explicit schema using structfield and structtype\n",
        "schema = StructType([\n",
        "    StructField(\"ID\", IntegerType(), True),\n",
        "    StructField(\"Name\", StringType(), True),\n",
        "    StructField(\"Age\", IntegerType(), True)\n",
        "])\n",
        "\n",
        "#createing a dataframe for the list of tuples\n",
        "df = spark.createDataFrame(tuples_list, schema=schema)\n",
        "\n",
        "#printing the schema\n",
        "df.printSchema()\n",
        "\n",
        "#print ing the dataframe\n",
        "df.show()"
      ],
      "metadata": {
        "id": "R-54prBiZdVa",
        "colab": {
          "base_uri": "https://localhost:8080/"
        },
        "outputId": "90e44129-08b0-420a-8b87-00c927aca7f5"
      },
      "execution_count": 14,
      "outputs": [
        {
          "output_type": "stream",
          "name": "stdout",
          "text": [
            "root\n",
            " |-- ID: integer (nullable = true)\n",
            " |-- Name: string (nullable = true)\n",
            " |-- Age: integer (nullable = true)\n",
            "\n",
            "+---+-------+---+\n",
            "| ID|   Name|Age|\n",
            "+---+-------+---+\n",
            "|  1|  Alice| 29|\n",
            "|  2|    Bob| 35|\n",
            "|  3|Charlie| 40|\n",
            "+---+-------+---+\n",
            "\n"
          ]
        }
      ]
    },
    {
      "cell_type": "markdown",
      "source": [
        "Key Learning :-\n",
        "\n",
        "Purpose of SparkSession :- It acts like an entry point to start spark functionality like dataframes etc\n",
        "\n",
        "key concepts of that spark session are :\n",
        "1. Builder ->Starts building the SparkSession.\n",
        "2. appName(\"example\")->Assigns a name to your Spark job\n",
        "3. getOrCreate():-\n",
        "  Reuse: Returns an existing SparkSession if one exists.\n",
        "\n",
        "  Create: Builds a new one if none exists.\n",
        "\n",
        "PySpark has two primary distributed data structures for processing data:\n",
        "\n",
        "1. RDD (Resilient Distributed Dataset)\n",
        "2. DataFrame\n",
        "\n",
        "RDD->\n",
        "Schema ->No schema (unstructured) ,\n",
        "\n",
        "Optimizations -> None ,\n",
        "\n",
        "Performance\t-> Slower (JVM serialization),\n",
        "\n",
        "Use Case\t-> Custom algorithms, raw data\n",
        "\n",
        "DataFrame:\n",
        "\n",
        "Schema ->Explicit schema (structured) ,\n",
        "\n",
        "Optimizations -> Catalyst + Tungsten optimizations ,\n",
        "\n",
        "Performance\t-> Faster (columnar storage),\n",
        "\n",
        "Use Case\t-> SQL analytics, structured pipelines\n",
        "\n",
        "\n",
        "Schema:\n",
        "There are 3 mostly used schemas they are\n",
        "1. Explicit Schema (StructType) : Defined manually using StructType and StructField.\n",
        "2. Inferred Schema : Spark automatically guesses the schema from data.\n",
        "3. DDL Schema (SQL-like String) : Define schema using a SQL DDL-formatted string.\n",
        "\n",
        "\n",
        " Data Display Methods:\n",
        "\n",
        "1. show() -> Shows 20 rows, truncates long text\n",
        "2. show(n) -> Shows first n rows\n",
        "3. show(truncate=False) -> Displays full cell content\n",
        "4. show(vertical=True) -> Displays rows vertically\n",
        "5. printSchema() -> Shows column names and types\n",
        "6. head() -> Returns list of Row objects\n",
        "7. take() -> \tReturns list of Row objects\n",
        "8. collect() -> Returns all data as list"
      ],
      "metadata": {
        "id": "GSxEEpK_mBsZ"
      }
    }
  ]
}